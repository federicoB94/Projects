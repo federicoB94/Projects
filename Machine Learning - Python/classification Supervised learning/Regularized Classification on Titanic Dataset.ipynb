{
 "cells": [
  {
   "cell_type": "markdown",
   "metadata": {},
   "source": [
    "# Regularized Classification on Titanic Dataset\n",
    "\n",
    "We are going to use a dataset from a Kaggle competition (https://www.kaggle.com/c/titanic/data)\n",
    " \n",
    "### Dataset description\n",
    "\n",
    ">The sinking of the RMS Titanic is one of the most infamous shipwrecks in history.  On April 15, 1912, during her maiden voyage, the Titanic sank after colliding with an iceberg, killing 1502 out of 2224 passengers and crew.  This tragedy shocked the international community and led to better safety regulations for ships.\n",
    "\n",
    ">One of the reasons that the shipwreck led to such loss of life was that there were not enough lifeboats for the passengers and crew.  Although there was some element of luck involved in surviving the sinking, some groups of people were more likely to survive than others, such as women, children, and the upper-class.\n",
    "\n",
    ">In this contest, we ask you to complete the analysis of what sorts of people were more likely to survive. \n",
    "\n",
    "From the competition [homepage](http://www.kaggle.com/c/titanic-gettingStarted).\n",
    "\n"
   ]
  },
  {
   "cell_type": "markdown",
   "metadata": {},
   "source": [
    "# TO DO: put your ID number (\"numero di matricola\")\n",
    "It will be used as seed for splitting the data into training and test. You can also try different seeds to see the impact of the random subdvision of the train and test sets and of the random components in the algorithm on the results."
   ]
  },
  {
   "cell_type": "code",
   "execution_count": 1,
   "metadata": {},
   "outputs": [],
   "source": [
    "import numpy as np\n",
    "\n",
    "#put here your ``numero di matricola''\n",
    "IDnumber =1206077 # substitute with your ID \n",
    "np.random.seed(IDnumber)"
   ]
  },
  {
   "cell_type": "code",
   "execution_count": 2,
   "metadata": {},
   "outputs": [],
   "source": [
    "# let's load library for plotting\n",
    "%matplotlib inline  \n",
    "import matplotlib.pyplot as plt"
   ]
  },
  {
   "cell_type": "markdown",
   "metadata": {},
   "source": [
    "## Data Preprocessing\n",
    "\n",
    "Load the data from a .csv file. In this notebook we use the pandas (Python Data Analysis Library) package, since it provides useful functions to clean the data. In particular, it allows us to remove samples with missing data, as we do below. We also plot some descriptions of columns, check the pandas documentation for 'describe()' if you want to know more."
   ]
  },
  {
   "cell_type": "code",
   "execution_count": 3,
   "metadata": {},
   "outputs": [
    {
     "data": {
      "text/html": [
       "<div>\n",
       "<style scoped>\n",
       "    .dataframe tbody tr th:only-of-type {\n",
       "        vertical-align: middle;\n",
       "    }\n",
       "\n",
       "    .dataframe tbody tr th {\n",
       "        vertical-align: top;\n",
       "    }\n",
       "\n",
       "    .dataframe thead th {\n",
       "        text-align: right;\n",
       "    }\n",
       "</style>\n",
       "<table border=\"1\" class=\"dataframe\">\n",
       "  <thead>\n",
       "    <tr style=\"text-align: right;\">\n",
       "      <th></th>\n",
       "      <th>PassengerId</th>\n",
       "      <th>Survived</th>\n",
       "      <th>Pclass</th>\n",
       "      <th>Age</th>\n",
       "      <th>SibSp</th>\n",
       "      <th>Parch</th>\n",
       "      <th>Fare</th>\n",
       "    </tr>\n",
       "  </thead>\n",
       "  <tbody>\n",
       "    <tr>\n",
       "      <th>count</th>\n",
       "      <td>712.000000</td>\n",
       "      <td>712.000000</td>\n",
       "      <td>712.000000</td>\n",
       "      <td>712.000000</td>\n",
       "      <td>712.000000</td>\n",
       "      <td>712.000000</td>\n",
       "      <td>712.000000</td>\n",
       "    </tr>\n",
       "    <tr>\n",
       "      <th>mean</th>\n",
       "      <td>448.589888</td>\n",
       "      <td>0.404494</td>\n",
       "      <td>2.240169</td>\n",
       "      <td>29.642093</td>\n",
       "      <td>0.514045</td>\n",
       "      <td>0.432584</td>\n",
       "      <td>34.567251</td>\n",
       "    </tr>\n",
       "    <tr>\n",
       "      <th>std</th>\n",
       "      <td>258.683191</td>\n",
       "      <td>0.491139</td>\n",
       "      <td>0.836854</td>\n",
       "      <td>14.492933</td>\n",
       "      <td>0.930692</td>\n",
       "      <td>0.854181</td>\n",
       "      <td>52.938648</td>\n",
       "    </tr>\n",
       "    <tr>\n",
       "      <th>min</th>\n",
       "      <td>1.000000</td>\n",
       "      <td>0.000000</td>\n",
       "      <td>1.000000</td>\n",
       "      <td>0.420000</td>\n",
       "      <td>0.000000</td>\n",
       "      <td>0.000000</td>\n",
       "      <td>0.000000</td>\n",
       "    </tr>\n",
       "    <tr>\n",
       "      <th>25%</th>\n",
       "      <td>222.750000</td>\n",
       "      <td>0.000000</td>\n",
       "      <td>1.000000</td>\n",
       "      <td>20.000000</td>\n",
       "      <td>0.000000</td>\n",
       "      <td>0.000000</td>\n",
       "      <td>8.050000</td>\n",
       "    </tr>\n",
       "    <tr>\n",
       "      <th>50%</th>\n",
       "      <td>445.000000</td>\n",
       "      <td>0.000000</td>\n",
       "      <td>2.000000</td>\n",
       "      <td>28.000000</td>\n",
       "      <td>0.000000</td>\n",
       "      <td>0.000000</td>\n",
       "      <td>15.645850</td>\n",
       "    </tr>\n",
       "    <tr>\n",
       "      <th>75%</th>\n",
       "      <td>677.250000</td>\n",
       "      <td>1.000000</td>\n",
       "      <td>3.000000</td>\n",
       "      <td>38.000000</td>\n",
       "      <td>1.000000</td>\n",
       "      <td>1.000000</td>\n",
       "      <td>33.000000</td>\n",
       "    </tr>\n",
       "    <tr>\n",
       "      <th>max</th>\n",
       "      <td>891.000000</td>\n",
       "      <td>1.000000</td>\n",
       "      <td>3.000000</td>\n",
       "      <td>80.000000</td>\n",
       "      <td>5.000000</td>\n",
       "      <td>6.000000</td>\n",
       "      <td>512.329200</td>\n",
       "    </tr>\n",
       "  </tbody>\n",
       "</table>\n",
       "</div>"
      ],
      "text/plain": [
       "       PassengerId    Survived      Pclass         Age       SibSp  \\\n",
       "count   712.000000  712.000000  712.000000  712.000000  712.000000   \n",
       "mean    448.589888    0.404494    2.240169   29.642093    0.514045   \n",
       "std     258.683191    0.491139    0.836854   14.492933    0.930692   \n",
       "min       1.000000    0.000000    1.000000    0.420000    0.000000   \n",
       "25%     222.750000    0.000000    1.000000   20.000000    0.000000   \n",
       "50%     445.000000    0.000000    2.000000   28.000000    0.000000   \n",
       "75%     677.250000    1.000000    3.000000   38.000000    1.000000   \n",
       "max     891.000000    1.000000    3.000000   80.000000    5.000000   \n",
       "\n",
       "            Parch        Fare  \n",
       "count  712.000000  712.000000  \n",
       "mean     0.432584   34.567251  \n",
       "std      0.854181   52.938648  \n",
       "min      0.000000    0.000000  \n",
       "25%      0.000000    8.050000  \n",
       "50%      0.000000   15.645850  \n",
       "75%      1.000000   33.000000  \n",
       "max      6.000000  512.329200  "
      ]
     },
     "execution_count": 3,
     "metadata": {},
     "output_type": "execute_result"
    }
   ],
   "source": [
    "# let's load pands and numpy\n",
    "import pandas as pd\n",
    "import numpy as np\n",
    "\n",
    "# this time we use pandas to load and clean the dataset\n",
    "\n",
    "# read the data from the csv file\n",
    "df = pd.read_csv(\"data/titanicData.csv\")\n",
    "\n",
    "# remove columns 'Ticket', 'Cabin', and 'Name' from the data since they are not relevant\n",
    "df = df.drop(['Ticket','Cabin','Name'], axis=1)\n",
    "# remove samples with missing values\n",
    "df = df.dropna() \n",
    "# let's see some statistics about the data \n",
    "df.describe()"
   ]
  },
  {
   "cell_type": "markdown",
   "metadata": {
    "collapsed": true
   },
   "source": [
    "Now we create data matrices: many of the features (columns of indices 0,1,3,4,6 in Xcat below) are categorical, so we need to encode them with ***indicator matrices***. That is, if a feature can take $\\ell$ different values $v_1,\\dots,v_{\\ell}$, we create $\\ell$ indicator (0-1) features $I_1,\\dots,I_{\\ell}$, such that $I_{j} = 1$ if and only if the value of the feature is $v_j$. This can be done in Python by first encode a feature with integers with LabelEncoder() and then obtain the indicator variables with OneHotEncoder()."
   ]
  },
  {
   "cell_type": "code",
   "execution_count": 4,
   "metadata": {},
   "outputs": [
    {
     "name": "stdout",
     "output_type": "stream",
     "text": [
      "['PassengerId', 'Survived', 'Pclass', 'Sex', 'Age', 'SibSp', 'Parch', 'Fare', 'Embarked']\n",
      "Number of samples: 712\n",
      "[0 1 2]\n",
      "1 (712, 2)\n",
      "2 (712, 1)\n",
      "3 (712, 6)\n",
      "4 (712, 7)\n",
      "5 (712, 1)\n",
      "6 (712, 3)\n"
     ]
    }
   ],
   "source": [
    "#df.values contains the data, both the values of instances and the value of the label\n",
    "Data = df.values\n",
    "# the matrix including the categorical data is given by columns from the second one \n",
    "X_categorical = Data[:,2:]\n",
    "# the target value (class) is in the first column\n",
    "Y = Data[:,1]\n",
    "\n",
    "print(list(df))\n",
    "\n",
    "# get the number d of features of each sample\n",
    "d = X_categorical.shape[1]\n",
    "\n",
    "# get the number m of samples\n",
    "m = X_categorical.shape[0]\n",
    "\n",
    "#let's see what the number of samples is\n",
    "print(\"Number of samples: {}\".format(m))\n",
    "\n",
    "#now encode categorical variables using integers and one-hot-encoder\n",
    "\n",
    "from sklearn.preprocessing import LabelEncoder, OneHotEncoder\n",
    "label_encoder = LabelEncoder()\n",
    "onehot_encoder = OneHotEncoder()\n",
    "\n",
    "# encode the first column of the data matrix into indicator variables\n",
    "\n",
    "X_tmp = label_encoder.fit_transform(X_categorical[:,0])\n",
    "X_tmp = X_tmp.reshape(X_tmp.shape[0],1)\n",
    "X = onehot_encoder.fit_transform(X_tmp[:,0].reshape(-1,1)).toarray()\n",
    "\n",
    "# repeat for the other categorical input variables, which have indices 1, 3, 4, and 6 in the X_categorical\n",
    "print(np.unique(X_tmp))\n",
    "index_categorical = [1,3,4,6]\n",
    "'''l encoder assegna un valore a ogni featurs, per esempio se ho 10 porti di partenza me li numera da 0 a 9,\n",
    "mentre one hot encoder mi assegna a ogni dato il valore 1 al suo valore, mentre a 0 le altre ad esempio se A\n",
    "è partito da Londra avrò l 1 su londra e lo 0 su tutti gli altri porti'''\n",
    "for i in range(1,7):\n",
    "    if i in index_categorical:\n",
    "        X_tmp = label_encoder.fit_transform(X_categorical[:,i])\n",
    "        X_tmp = X_tmp.reshape(X_tmp.shape[0],1)\n",
    "        #print(np.unique(X_tmp))\n",
    "        X_tmp = onehot_encoder.fit_transform(X_tmp[:,0].reshape(-1,1)).toarray()\n",
    "        X = np.hstack((X,X_tmp))\n",
    "    else:\n",
    "        X_tmp = X_categorical[:,i]\n",
    "        #print(np.unique(X_tmp))\n",
    "        X_tmp = X_tmp.reshape(X_tmp.shape[0],1)\n",
    "        X = np.hstack((X,X_tmp))\n",
    "    print(i,X_tmp.shape)\n",
    "#print(X[23])\n",
    "#attenzione che età e prezzo non sono onehot encodati\n",
    "#dati dentro x in ordine:\n",
    "#"
   ]
  },
  {
   "cell_type": "markdown",
   "metadata": {},
   "source": [
    "## Data Preprocessing\n",
    "\n",
    "The class labels are already 0-1, so we can use them directly."
   ]
  },
  {
   "cell_type": "code",
   "execution_count": 5,
   "metadata": {},
   "outputs": [
    {
     "name": "stdout",
     "output_type": "stream",
     "text": [
      "Number of classes: 2\n"
     ]
    }
   ],
   "source": [
    "# properly encode the target labels\n",
    "Y = label_encoder.fit_transform(Y)\n",
    "K = max(Y) + 1 # number of classes\n",
    "\n",
    "print(\"Number of classes: \"+str(K))\n",
    "#print(Y)"
   ]
  },
  {
   "cell_type": "markdown",
   "metadata": {},
   "source": [
    "Given $m$ total data points, keep $m\\_training = 70$ data points as data for ***training and validation*** and $m\\_test = m - m\\_training$ as test data. Splitting is random, using as seed your ID number. Make sure that the training set contains at least 10 instances from each class.If it does not, modify the code so to apply a random\n",
    "permutation (or the same permutation multiple times) to the samples until this happens."
   ]
  },
  {
   "cell_type": "code",
   "execution_count": 6,
   "metadata": {},
   "outputs": [
    {
     "name": "stdout",
     "output_type": "stream",
     "text": [
      "[1 0 1 1 0 1 1 0 0 0 1 0 1 0 1 0 1 0 0 1 0 1 1 1 0 0 1 1 1 1 1 1 0 0 1 1 1\n",
      " 0 0 0 1 0 1 0 0 1 1 1 1 1 1 1 0 0 1 1 0 1 1 0 1 1 1 0 1 0 0 1 0 1]\n",
      "0.4044943820224719\n"
     ]
    }
   ],
   "source": [
    "# Split data into training and validation data\n",
    "\n",
    "# load a package which is useful for the training-test splitting\n",
    "# from sklearn.cross_validation import train_test_split\n",
    "from sklearn.model_selection import train_test_split\n",
    "\n",
    "# number of samples\n",
    "m = np.shape(X)[0]\n",
    "\n",
    "#Divide in training and test: make sure that your training set\n",
    "#contains at least 10 elements from class 1 and at least 10 elements\n",
    "#from class -1! If it does not, modify the code so to apply more random\n",
    "#permutations (or the same permutation multiple times) until this happens.\n",
    "\n",
    "permutation = np.random.permutation(m)\n",
    "X = X[permutation]\n",
    "Y = Y[permutation]\n",
    "\n",
    "m_training = 70  # use 70 samples for training + validation...\n",
    "m_test = m-m_training # and the rest for testing\n",
    "\n",
    "# test_size is the proportion of samples in the test set\n",
    "X_training, X_test, Y_training, Y_test = train_test_split(X, Y, test_size =float(m_test)/float(m), random_state = IDnumber)\n",
    "\n",
    "print(Y_training)\n",
    "\n",
    "m_training = X_training.shape[0]\n",
    "m_test = X_test.shape[0]\n",
    "\n",
    "#let's see what the fraction of ones in the entire dataset is\n",
    "print(float(sum(Y_training)+sum(Y_test))/float(m_training+m_test))"
   ]
  },
  {
   "cell_type": "markdown",
   "metadata": {},
   "source": [
    "Standardize the data to have zero-mean and unit variance (columnwise):"
   ]
  },
  {
   "cell_type": "code",
   "execution_count": 7,
   "metadata": {},
   "outputs": [],
   "source": [
    "# Standardize the Features Matrix\n",
    "from sklearn import preprocessing\n",
    "\n",
    "X = X.astype(np.float64) #standard scaler works with double precision data\n",
    "X_training = X_training.astype(np.float64)\n",
    "X_test = X_test.astype(np.float64)\n",
    "\n",
    "#let's use the standard scaling; we degine the scaling for the entire dataset\n",
    "scaler = preprocessing.StandardScaler().fit(X)\n",
    "\n",
    "#let's apply the scaling to the training set\n",
    "\n",
    "X_training = scaler.transform(X_training)\n",
    "#let's apply the scaling to the test set\n",
    "\n",
    "X_test = scaler.transform(X_test)"
   ]
  },
  {
   "cell_type": "markdown",
   "metadata": {},
   "source": [
    "### Perform Logistic Regression\n",
    "\n",
    "We now perform logistic regression using the function provided by Scikit-learn.\n",
    "\n",
    "Note: as provided by Scikit-learn, logistic regression is always implemented using regularization. However, the impact of regularization can be dampened to have almost no regularization by changing the parameter $C$, which is the inverse of $\\lambda$. Therefore to have no regularization, which is $\\lambda = 0$ for the model seen in class, we need $C$ to have a large value. Here we fix $C = 100000000$.\n",
    "\n",
    "[Note that the intercept is estimated in the model.]\n",
    "\n",
    "For all our models we are going to use 10-fold cross validation to estimate the parameters (when needed) and/or estimate the validation error."
   ]
  },
  {
   "cell_type": "code",
   "execution_count": 8,
   "metadata": {},
   "outputs": [
    {
     "name": "stdout",
     "output_type": "stream",
     "text": [
      "Values of parameter C tried in 10-fold Cross-Validation: [100000000]\n",
      "Accuracies obtained for the different values of C with 10-fold Cross-Validation: [0.79880952]\n",
      "Best value of parameter C according to 10-fold Cross-Validation: 100000000\n",
      "10-fold Cross-Validation accuracies obtained with the best value of parameter C: 0.7988095238095239\n"
     ]
    }
   ],
   "source": [
    "from sklearn import linear_model\n",
    "\n",
    "# define a logistic regression model with very high C parameter -> low impact from regularization;\n",
    "# there are many solvers available to obtain the solution to the logistic regression problem, we just pick\n",
    "# one of them; 'cv' is the number of folds in cross-validation; we also specify l2 as regularization penalty,\n",
    "# just to pick one; Cs contains the values of C to be tested and to pick from with validation. Here we\n",
    "# are interested in only 1 value of C, and use cross-validation just to estimate the validation error\n",
    "# in a same way as other models\n",
    "\n",
    "reg = linear_model.LogisticRegressionCV(Cs=[100000000], solver='newton-cg',cv=10, penalty='l2')\n",
    "\n",
    "#fit the model on training data\n",
    "reg.fit(X_training, Y_training)\n",
    "\n",
    "# the attribute 'Cs_' contains ALL the values of C evaluated in cross-validation;\n",
    "# let's print them\n",
    "print(\"Values of parameter C tried in 10-fold Cross-Validation: {}\".format( reg.Cs_ ))\n",
    "\n",
    "# the attribute 'scores_' contains the accuracy obtained in each fold, for each value \n",
    "# of C tried; we now compute the average accuracy across the 10 folds\n",
    "\n",
    "CV_accuracies = np.divide(np.sum(reg.scores_[1],axis=0),10)\n",
    "\n",
    "# let's print the average accuracies obtained for the various values of C\n",
    "\n",
    "print(\"Accuracies obtained for the different values of C with 10-fold Cross-Validation: {}\".format( CV_accuracies ))\n",
    "\n",
    "# the attribute 'C_' contains the best value of C as identified by cross-validation;\n",
    "# let's print it\n",
    "\n",
    "print(\"Best value of parameter C according to 10-fold Cross-Validation: {}\".format( reg.C_[0] ))\n",
    "\n",
    "# let's store the best CV accuracy, and then print it\n",
    "reg_best_CV_accuracy = max(CV_accuracies)\n",
    "print(\"10-fold Cross-Validation accuracies obtained with the best value of parameter C: {}\".format( reg_best_CV_accuracy ))"
   ]
  },
  {
   "cell_type": "markdown",
   "metadata": {},
   "source": [
    "Note that the logistic regression function in Scikit-learn has many optional parameters. Read the documentation if you want to understand what they do!"
   ]
  },
  {
   "cell_type": "markdown",
   "metadata": {},
   "source": [
    "## TODO 1\n",
    "### Learn the best model from Logistic Regression on the entire training set and examine coefficients (by printing and plotting them)\n",
    "\n",
    "Note that you can use simply $linear\\_model.LogisticRegression()$, that does not use cross-validation, without passing the best value of $C$ (and then fit())."
   ]
  },
  {
   "cell_type": "code",
   "execution_count": 9,
   "metadata": {},
   "outputs": [
    {
     "name": "stdout",
     "output_type": "stream",
     "text": [
      "Coefficients obtained using the entire training set: [[ 0.89589124 -0.24238747 -0.57647961  1.04879007 -1.04879007 -1.5930218\n",
      "   0.04445416  0.79392157 -0.61134201  0.02291656 -1.65417906  0.01471917\n",
      "   0.34349813  0.31677708 -0.8829651  -0.12122587  0.01315592  0.01471917\n",
      "   0.00656407  0.14947959  0.56809036 -2.32849381  0.56101566]]\n",
      "num coeff:  23\n",
      "Intercept: [-0.17502815]\n"
     ]
    },
    {
     "data": {
      "image/png": "[encoded data removed]",
      "text/plain": [
       "<Figure size 432x288 with 1 Axes>"
      ]
     },
     "metadata": {
      "needs_background": "light"
     },
     "output_type": "display_data"
    }
   ],
   "source": [
    "# let's define the Logistic Regression model\n",
    "reg_full =   linear_model.LogisticRegression(C=1000000)\n",
    "\n",
    "# get the best model using the entire training dataset\n",
    "\n",
    "reg_full.fit(X_training,Y_training)\n",
    "\n",
    "# print the coefficients from the logistic regression model.\n",
    "print(\"Coefficients obtained using the entire training set: {}\".format( reg_full.coef_ ))\n",
    "print('num coeff: ',reg_full.coef_.shape[1])\n",
    "\n",
    "# note that the intercept is not in coef_, it is in intercept_\n",
    "\n",
    "print(\"Intercept: {}\".format( reg_full.intercept_ ))\n",
    "\n",
    "# Plot the coefficients\n",
    "reg_coef = reg_full.coef_.reshape(reg_full.coef_.shape[1],)\n",
    "plt.figure()\n",
    "ind = np.arange(1,len(reg_coef)+1)  # the x locations for the groups\n",
    "width = 0.45       # the width of the bars\n",
    "plt.bar(ind, reg_coef, width, color='r')\n",
    "plt.xlabel('Coefficient Index')\n",
    "plt.ylabel('Coefficient Value')\n",
    "plt.title('Logistic Regression Coefficients')\n",
    "plt.show()\n"
   ]
  },
  {
   "cell_type": "markdown",
   "metadata": {},
   "source": [
    "## TODO 2\n",
    "\n",
    "### Questions: How many coefficients do you get? Why? How many of them are \"close\" to 0? (max 5 lines)\n",
    "\n",
    "performando l' encoded si codificano i vali valori assumibili dalla variabili. In particolare la varie features possono assumere i seguenti valori: \n",
    "\n",
    "\n",
    "\n",
    "Pclass: 3 valori possibili\n",
    "\n",
    "Sex: 2 valori\n",
    "\n",
    "\n",
    "Age: 1 valore (ognuno ha il suo valore perchè non abbiamo eseguito un onehot_enccoder)\n",
    "\n",
    "\n",
    "SibSp: 6 valori\n",
    "\n",
    "Parch: 7 valori\n",
    "\n",
    "Fare: 1 valore simislemte a 'Age'\n",
    "\n",
    "Embarked: 3 valori\n",
    "\n",
    "la somma è 23 e i coefficienti della regressione rappresentano proprio tali coeff.\n",
    "\n",
    "Ci sono 6 valori molto vicini a 0\n"
   ]
  },
  {
   "cell_type": "markdown",
   "metadata": {},
   "source": [
    "## TODO 3\n",
    "### Predict labels on training and test\n",
    "\n",
    "- Compute the predicted labels on training and test data using reg.predict\n",
    " - Evaluate the accuracy using metrics.accuracy_score from scikit-learn (it returns the percentage of data correctly classified).\n",
    " - Evaluate the score used by logistic regression on training and test data using metrics.accuracy_score()"
   ]
  },
  {
   "cell_type": "code",
   "execution_count": 10,
   "metadata": {},
   "outputs": [
    {
     "name": "stdout",
     "output_type": "stream",
     "text": [
      "accuratezza per il training:  0.9\n",
      "accuratezza per il test:  0.7398753894080997\n"
     ]
    }
   ],
   "source": [
    "from sklearn import metrics\n",
    "\n",
    "# prediction on training data\n",
    "Y_training_prediction_LR = reg_full.predict(X_training)\n",
    "\n",
    "print('accuratezza per il training: ',metrics.accuracy_score(Y_training, Y_training_prediction_LR))\n",
    "\n",
    "#ADD CODE\n",
    "\n",
    "# prediction on test data\n",
    "Y_test_prediction_LR = reg_full.predict(X_test)\n",
    "\n",
    "print('accuratezza per il test: ',metrics.accuracy_score(Y_test, Y_test_prediction_LR))\n"
   ]
  },
  {
   "cell_type": "markdown",
   "metadata": {},
   "source": [
    "## TODO 4\n",
    "### Use L2 regularized logistic regression with cross-validation\n",
    "\n",
    "We perform the L2 regularization for different values of the regularization parameter $C$, and use the Scikit-learn function to perform cross-validation (CV).\n",
    "\n",
    "In L2 regularized logistic regression, the following L2 regularization term is added to the loss:\n",
    "\n",
    "$$\n",
    "    \\lambda \\sum_{i=1}^d w_i^2\n",
    "$$\n",
    "\n",
    "The parameter $C$ used by Scikit learn corresponds to the inverse of $\\lambda$, that is $C = \\frac{1}{\\lambda}$.\n",
    "\n",
    "Note: the CV in Scikit-learn is by default a *stratified* CV, that means that data is split into train-validation while maintaining the proportion of different classes in each fold.\n",
    "\n",
    "In the code below:\n",
    "- use LogisticRegressionCV() to select the best value of C with a 10-fold CV with L2 penalty;\n",
    "- use LogisticRegression() to learn the best model for the best C with L2 penalty on the entire training set\n",
    "\n",
    "Note that LogisticRegressionCV() picks some default values of C to try, but you may need to pass some other values in case for your dataset you need to explore a different interval of values. This applies every time that you use LogisticRegressionCV()."
   ]
  },
  {
   "cell_type": "code",
   "execution_count": 11,
   "metadata": {},
   "outputs": [
    {
     "name": "stdout",
     "output_type": "stream",
     "text": [
      "Values of parameter C tried in 10-fold Cross-Validation: [1.00000000e-04 7.74263683e-04 5.99484250e-03 4.64158883e-02\n",
      " 3.59381366e-01 2.78255940e+00 2.15443469e+01 1.66810054e+02\n",
      " 1.29154967e+03 1.00000000e+04]\n",
      "\n",
      " Accuracies obtained for the different values of C with 10-fold Cross-Validation:               0         0\n",
      "0      0.000100  0.586310\n",
      "1      0.000774  0.586310\n",
      "2      0.005995  0.698810\n",
      "3      0.046416  0.782143\n",
      "4      0.359381  0.782143\n",
      "5      2.782559  0.813095\n",
      "6     21.544347  0.813095\n",
      "7    166.810054  0.798810\n",
      "8   1291.549665  0.798810\n",
      "9  10000.000000  0.798810\n",
      "\n",
      " C_:  [2.7825594]\n",
      "\n",
      "10-fold Cross-Validation accuracies obtained with the best value of parameter C: 0.813095238095238\n"
     ]
    },
    {
     "data": {
      "text/plain": [
       "LogisticRegression(C=2.782559402207126, class_weight=None, dual=False,\n",
       "          fit_intercept=True, intercept_scaling=1, max_iter=100,\n",
       "          multi_class='ovr', n_jobs=1, penalty='l2', random_state=None,\n",
       "          solver='liblinear', tol=0.0001, verbose=0, warm_start=False)"
      ]
     },
     "execution_count": 11,
     "metadata": {},
     "output_type": "execute_result"
    }
   ],
   "source": [
    "from sklearn.linear_model import LogisticRegressionCV as LRCV\n",
    "#define the model using LogisticRegressionCV passing an appropriate solver, cv value, and choice of penalty\n",
    "regL2 = LRCV(solver='newton-cg',penalty='l2',cv=10)\n",
    "\n",
    "#fit the model on training data\n",
    "regL2.fit(X_training,Y_training)\n",
    "\n",
    "# the attribute 'Cs_' contains ALL the values of C evaluated in cross-validation;\n",
    "# let's print them\n",
    "print(\"Values of parameter C tried in 10-fold Cross-Validation: {}\".format( regL2.Cs_ ))\n",
    "\n",
    "# the attribute 'scores_' contains the accuracy obtained in each fold, for each value \n",
    "# of C tried; we now compute the average accuracy across the 10 folds\n",
    "\n",
    "\n",
    "CS=pd.DataFrame(regL2.Cs_ )\n",
    "matrix_mean=pd.DataFrame(regL2.scores_[1])\n",
    "\n",
    "medie=pd.DataFrame(matrix_mean.mean(axis=0))\n",
    "#print(medie)\n",
    "CV_accuracies =pd.concat([CS, medie], axis=1)\n",
    "\n",
    "# let's print the average accuracies obtained for the various values of C\n",
    "\n",
    "print(\"\\n Accuracies obtained for the different values of C with 10-fold Cross-Validation: {}\".format( CV_accuracies ))\n",
    "\n",
    "# the attribute 'C_' contains the best value of C as identified by cross-validation;\n",
    "# let's print it\n",
    "\n",
    "print('\\n C_: ',regL2.C_)\n",
    "\n",
    "\n",
    "# let's store the best CV accuracy, and then print it\n",
    "Medie=matrix_mean.mean(axis=0)\n",
    "regL2_best_CV_accuracy = max(Medie)\n",
    "print(\"\\n10-fold Cross-Validation accuracies obtained with the best value of parameter C: {}\".format( regL2_best_CV_accuracy ))\n",
    "\n",
    "#define the model using the best C and an appropriate solver\n",
    "\n",
    "\n",
    "regL2_full = linear_model.LogisticRegression(C=float(regL2.C_))\n",
    "\n",
    "\n",
    "#fit the model using the best C on the entire training set\n",
    "\n",
    "regL2_full.fit(X_training,Y_training)\n"
   ]
  },
  {
   "cell_type": "markdown",
   "metadata": {},
   "source": [
    "### TODO 5: Print and plot the coefficients from logistic regression with and without regularization."
   ]
  },
  {
   "cell_type": "code",
   "execution_count": 12,
   "metadata": {},
   "outputs": [
    {
     "name": "stdout",
     "output_type": "stream",
     "text": [
      "REG\n",
      "\n",
      " Coefficients obtained using the entire training set: [[ 0.89589124 -0.24238747 -0.57647961  1.04879007 -1.04879007 -1.5930218\n",
      "   0.04445416  0.79392157 -0.61134201  0.02291656 -1.65417906  0.01471917\n",
      "   0.34349813  0.31677708 -0.8829651  -0.12122587  0.01315592  0.01471917\n",
      "   0.00656407  0.14947959  0.56809036 -2.32849381  0.56101566]]\n",
      "num coeff:  23\n",
      "\n",
      "Intercept: [-0.17502815]\n",
      "REGL2\n",
      "\n",
      " \n",
      "Coefficients obtained using the entire training set with L2 regularized: [[ 0.76700783 -0.18931556 -0.50915993  0.87912531 -0.87912531 -1.32831388\n",
      "  -0.08555066  0.57841572 -0.52721345 -0.01482381 -0.71638239 -0.00952124\n",
      "   0.28053456  0.27380162 -0.72789332 -0.0973806  -0.00851004 -0.00952124\n",
      "  -0.00424603  0.13768341  0.30386952 -1.11801537  0.24045155]]\n",
      "\n",
      "num coeff:  23\n",
      "Intercept: [0.11321874]\n"
     ]
    },
    {
     "data": {
      "image/png": "[encoded data removed]",
      "text/plain": [
       "<Figure size 432x288 with 1 Axes>"
      ]
     },
     "metadata": {
      "needs_background": "light"
     },
     "output_type": "display_data"
    }
   ],
   "source": [
    "#print the coefficients from logistic regression\n",
    "# print the coefficients from the logistic regression model.\n",
    "print('REG\\n\\n',\"Coefficients obtained using the entire training set: {}\".format( reg_full.coef_ ))\n",
    "print('num coeff: ',reg_full.coef_.shape[1])\n",
    "\n",
    "# note that the intercept is not in coef_, it is in intercept_\n",
    "\n",
    "print(\"\\nIntercept: {}\".format( reg_full.intercept_ ))\n",
    "\n",
    "\n",
    "\n",
    "\n",
    "# print the coefficients from L2 regularized logistic regression model.\n",
    "print('REGL2\\n\\n',\"\\nCoefficients obtained using the entire training set with L2 regularized: {}\".format( regL2_full.coef_ ))\n",
    "print('\\nnum coeff: ',regL2_full.coef_.shape[1])\n",
    "\n",
    "\n",
    "# note that the intercept is not in coef_, it is in intercept_\n",
    "\n",
    "print(\"Intercept: {}\".format( regL2_full.intercept_ ))\n",
    "\n",
    "# Plot the coefficients\n",
    "regL2_full_coef = regL2_full.coef_.reshape(regL2_full.coef_.shape[1],)\n",
    "ind = np.arange(1,len(reg_coef)+1)  # the x locations for the groups\n",
    "width = 0.35       # the width of the bars\n",
    "fig, ax = plt.subplots()\n",
    "\n",
    "rects1 = ax.bar(ind, reg_coef, width, color='r')\n",
    "rects2 = ax.bar(ind + width, regL2_full_coef, width, color='y')\n",
    "ax.legend((rects1[0], rects2[0]), ('Log Regr', 'Log Regr + L2 Regul'))\n",
    "plt.xlabel('Coefficient Idx')\n",
    "plt.ylabel('Coefficient Value')\n",
    "plt.title('Logistic Regression Coefficients: Standard and Regularized Version')\n",
    "plt.show()"
   ]
  },
  {
   "cell_type": "markdown",
   "metadata": {},
   "source": [
    "### TODO 6: how do the coefficients from L2 regularization compare to the ones from logistic regression? (max 5 lines)"
   ]
  },
  {
   "cell_type": "markdown",
   "metadata": {},
   "source": [
    "come si vede dal grafico sopra i coefficienti calcolati dopo la regolarizzazione sono molto più bassi rispetto a quelli prima della regolarizzazione.\n",
    "(utilizzando il particolarte seed portato dal mio numero di matricola si osserva la diminuzione ma utilizzando un seed più \"fortunato\" si riesce a vedere che il calo è drastico)\n"
   ]
  },
  {
   "cell_type": "markdown",
   "metadata": {},
   "source": [
    "### TODO 7: obtain classification accuracy on training and test data for the L2 regularized model"
   ]
  },
  {
   "cell_type": "code",
   "execution_count": 13,
   "metadata": {},
   "outputs": [
    {
     "name": "stdout",
     "output_type": "stream",
     "text": [
      "accuratezze per la logicReg regolarizzata\n",
      "accuratezza per il training:  0.9\n",
      "accuratezza per il test:  0.7414330218068536\n"
     ]
    }
   ],
   "source": [
    "#now get training and test error and print training and test accuracy\n",
    "print(\"accuratezze per la logicReg regolarizzata\")\n",
    "# predictions on training data \n",
    "Y_training_prediction_LR_L2 =  regL2_full.predict(X_training) \n",
    "\n",
    "# predictions on test data \n",
    "Y_test_prediction_LR_L2 =  regL2_full.predict(X_test)\n",
    "\n",
    "# compute accuracy as suggested above using metrics.accuracy_score from scikit-learn on training data\n",
    "\n",
    "print('accuratezza per il training: ',metrics.accuracy_score(Y_training, Y_training_prediction_LR_L2))\n",
    "\n",
    "# compute accuracy as suggested above using metrics.accuracy_score from scikit-learn on test data\n",
    "\n",
    "print('accuratezza per il test: ',metrics.accuracy_score(Y_test, Y_test_prediction_LR_L2))"
   ]
  },
  {
   "cell_type": "markdown",
   "metadata": {},
   "source": [
    "### TODO 8: how does accuracy compare to logistic regression? Comment (max 5 lines)"
   ]
  },
  {
   "cell_type": "markdown",
   "metadata": {},
   "source": [
    "l'accuratezza sul training set non varia.\n",
    "\n",
    "per quanto riguarda invece l' accuratezza sul test set si ha che regolarizzando questa migliora anche se non di molto:\n",
    "\n",
    "accuratezza LogReg test: 0.7398753894080997\n",
    "\n",
    "accuratezza LogRegL2 test: 0.7414330218068536"
   ]
  },
  {
   "cell_type": "markdown",
   "metadata": {
    "collapsed": true
   },
   "source": [
    "### TODO 9: use larger datasets for training set\n",
    "\n",
    "Perform the same estimation procedures using different more points on the training data, that is fix $m_{training} = 500$. You can simply copy and paste all the code above into the cell below."
   ]
  },
  {
   "cell_type": "code",
   "execution_count": 14,
   "metadata": {},
   "outputs": [
    {
     "name": "stdout",
     "output_type": "stream",
     "text": [
      "[0 0 1 1 0 1 1 1 0 0 1 0 1 1 0 0 0 0 1 1 1 1 1 0 0 1 0 1 1 1 0 1 0 1 0 0 1\n",
      " 1 0 1 1 0 1 0 1 1 0 0 0 1 0 0 1 1 1 0 0 0 1 0 0 1 0 0 0 0 0 0 1 1 1 0 0 0\n",
      " 0 0 0 1 0 0 0 1 0 0 0 0 1 1 0 1 0 0 0 0 0 0 1 0 0 1 0 0 1 0 0 1 0 0 1 0 0\n",
      " 0 0 0 0 1 1 0 0 1 0 0 1 1 0 0 1 0 0 1 1 0 0 0 0 1 1 1 0 1 1 0 0 0 1 1 1 1\n",
      " 1 0 0 1 1 1 0 1 0 1 1 0 1 1 1 1 0 0 1 0 1 0 0 1 0 1 0 0 0 0 1 0 0 0 0 0 0\n",
      " 0 1 1 0 1 0 0 0 0 1 1 1 0 0 1 0 0 0 0 0 0 1 1 1 0 0 1 0 0 0 1 0 0 0 0 1 1\n",
      " 0 0 1 0 0 1 0 0 0 0 0 1 0 0 0 0 0 0 1 1 1 0 0 0 1 0 1 1 0 0 1 0 0 0 0 0 1\n",
      " 0 0 1 1 0 1 0 0 1 1 1 0 1 0 0 1 0 1 1 1 0 0 1 1 0 0 0 1 0 1 0 0 1 1 0 1 1\n",
      " 0 1 1 0 1 0 1 0 0 0 0 0 1 1 0 0 1 1 1 1 1 0 0 1 0 0 0 0 0 0 1 1 0 0 1 1 1\n",
      " 0 0 0 0 0 1 0 0 0 0 0 0 0 0 0 1 0 1 0 0 0 1 1 1 0 0 1 0 1 1 0 1 1 1 1 1 0\n",
      " 1 0 1 0 0 1 0 1 1 1 1 1 0 0 0 0 1 1 0 0 0 0 1 0 0 1 1 0 0 0 1 1 1 0 0 1 1\n",
      " 0 0 1 1 1 1 0 0 1 0 1 1 1 1 1 0 0 1 0 1 0 1 1 0 0 1 1 0 1 1 1 0 1 0 1 0 0\n",
      " 0 0 0 1 1 0 0 1 1 1 1 1 0 1 0 1 0 0 0 0 0 0 0 0 1 0 0 0 1 0 0 0 1 1 1 1 1\n",
      " 0 0 0 0 1 1 0 0 1 1 0 0 1 1 1 1 0 0 0]\n",
      "0.4044943820224719\n"
     ]
    }
   ],
   "source": [
    "permutation = np.random.permutation(m)\n",
    "X = X[permutation]\n",
    "Y = Y[permutation]\n",
    "\n",
    "m_training = 500  # use 70 samples for training + validation...\n",
    "m_test = m-m_training # and the rest for testing\n",
    "\n",
    "# test_size is the proportion of samples in the test set\n",
    "X_training, X_test, Y_training, Y_test = train_test_split(X, Y, test_size =float(m_test)/float(m), random_state = IDnumber)\n",
    "\n",
    "print(Y_training)\n",
    "\n",
    "m_training = X_training.shape[0]\n",
    "m_test = X_test.shape[0]\n",
    "\n",
    "#let's see what the fraction of ones in the entire dataset is\n",
    "print(float(sum(Y_training)+sum(Y_test))/float(m_training+m_test))\n"
   ]
  },
  {
   "cell_type": "code",
   "execution_count": 15,
   "metadata": {},
   "outputs": [],
   "source": [
    "X = X.astype(np.float64) #standard scaler works with double precision data\n",
    "X_training = X_training.astype(np.float64)\n",
    "X_test = X_test.astype(np.float64)\n",
    "\n",
    "#let's use the standard scaling; we degine the scaling for the entire dataset\n",
    "scaler = preprocessing.StandardScaler().fit(X)\n",
    "\n",
    "#let's apply the scaling to the training set\n",
    "\n",
    "X_training = scaler.transform(X_training)\n",
    "#let's apply the scaling to the test set\n",
    "\n",
    "X_test = scaler.transform(X_test)"
   ]
  },
  {
   "cell_type": "code",
   "execution_count": 16,
   "metadata": {},
   "outputs": [
    {
     "name": "stdout",
     "output_type": "stream",
     "text": [
      "Values of parameter C tried in 10-fold Cross-Validation: [100000000]\n",
      "Accuracies obtained for the different values of C with 10-fold Cross-Validation: [0.79785114]\n",
      "Best value of parameter C according to 10-fold Cross-Validation: 100000000\n",
      "10-fold Cross-Validation accuracies obtained with the best value of parameter C: 0.7978511404561826\n"
     ]
    }
   ],
   "source": [
    "reg = linear_model.LogisticRegressionCV(Cs=[100000000], solver='newton-cg',cv=10, penalty='l2')\n",
    "\n",
    "#fit the model on training data\n",
    "reg.fit(X_training, Y_training)\n",
    "\n",
    "# the attribute 'Cs_' contains ALL the values of C evaluated in cross-validation;\n",
    "# let's print them\n",
    "print(\"Values of parameter C tried in 10-fold Cross-Validation: {}\".format( reg.Cs_ ))\n",
    "\n",
    "# the attribute 'scores_' contains the accuracy obtained in each fold, for each value \n",
    "# of C tried; we now compute the average accuracy across the 10 folds\n",
    "\n",
    "CV_accuracies = np.divide(np.sum(reg.scores_[1],axis=0),10)\n",
    "\n",
    "# let's print the average accuracies obtained for the various values of C\n",
    "\n",
    "print(\"Accuracies obtained for the different values of C with 10-fold Cross-Validation: {}\".format( CV_accuracies ))\n",
    "\n",
    "# the attribute 'C_' contains the best value of C as identified by cross-validation;\n",
    "# let's print it\n",
    "\n",
    "print(\"Best value of parameter C according to 10-fold Cross-Validation: {}\".format( reg.C_[0] ))\n",
    "\n",
    "# let's store the best CV accuracy, and then print it\n",
    "reg_best_CV_accuracy = max(CV_accuracies)\n",
    "print(\"10-fold Cross-Validation accuracies obtained with the best value of parameter C: {}\".format( reg_best_CV_accuracy ))"
   ]
  },
  {
   "cell_type": "code",
   "execution_count": 17,
   "metadata": {},
   "outputs": [
    {
     "name": "stdout",
     "output_type": "stream",
     "text": [
      "Coefficients obtained using the entire training set: [[ 0.53075751 -0.07018028 -0.40450283  0.68110101 -0.68110101 -0.60602897\n",
      "   0.2021472   0.16221021 -0.13733411 -0.28596163 -0.31587536 -0.65933127\n",
      "   0.00177855  0.05045485  0.09281054  0.08200243 -0.67268784 -0.04286341\n",
      "   0.01884421  0.04485076  0.02495258 -0.07713634  0.01288256]]\n",
      "num coeff:  23\n",
      "Intercept: [-0.50247288]\n"
     ]
    },
    {
     "data": {
      "image/png": "[encoded data removed]",
      "text/plain": [
       "<Figure size 432x288 with 1 Axes>"
      ]
     },
     "metadata": {
      "needs_background": "light"
     },
     "output_type": "display_data"
    }
   ],
   "source": [
    "reg_full =   linear_model.LogisticRegression(C=1000000)\n",
    "\n",
    "# get the best model using the entire training dataset\n",
    "\n",
    "reg_full.fit(X_training,Y_training)\n",
    "\n",
    "# print the coefficients from the logistic regression model.\n",
    "print(\"Coefficients obtained using the entire training set: {}\".format( reg_full.coef_ ))\n",
    "print('num coeff: ',reg_full.coef_.shape[1])\n",
    "\n",
    "# note that the intercept is not in coef_, it is in intercept_\n",
    "\n",
    "print(\"Intercept: {}\".format( reg_full.intercept_ ))\n",
    "\n",
    "# Plot the coefficients\n",
    "reg_coef = reg_full.coef_.reshape(reg_full.coef_.shape[1],)\n",
    "plt.figure()\n",
    "ind = np.arange(1,len(reg_coef)+1)  # the x locations for the groups\n",
    "width = 0.45       # the width of the bars\n",
    "plt.bar(ind, reg_coef, width, color='r')\n",
    "plt.xlabel('Coefficient Index')\n",
    "plt.ylabel('Coefficient Value')\n",
    "plt.title('Logistic Regression Coefficients')\n",
    "plt.show()"
   ]
  },
  {
   "cell_type": "code",
   "execution_count": 18,
   "metadata": {},
   "outputs": [
    {
     "name": "stdout",
     "output_type": "stream",
     "text": [
      "accuratezza per il training:  0.812\n",
      "accuratezza per il test:  0.7688679245283019\n"
     ]
    }
   ],
   "source": [
    "# prediction on training data\n",
    "Y_training_prediction_LR = reg_full.predict(X_training)\n",
    "\n",
    "print('accuratezza per il training: ',metrics.accuracy_score(Y_training, Y_training_prediction_LR))\n",
    "\n",
    "#ADD CODE\n",
    "\n",
    "# prediction on test data\n",
    "Y_test_prediction_LR = reg_full.predict(X_test)\n",
    "\n",
    "print('accuratezza per il test: ',metrics.accuracy_score(Y_test, Y_test_prediction_LR))\n",
    "\n"
   ]
  },
  {
   "cell_type": "code",
   "execution_count": 19,
   "metadata": {},
   "outputs": [
    {
     "name": "stdout",
     "output_type": "stream",
     "text": [
      "Values of parameter C tried in 10-fold Cross-Validation: [1.00000000e-04 7.74263683e-04 5.99484250e-03 4.64158883e-02\n",
      " 3.59381366e-01 2.78255940e+00 2.15443469e+01 1.66810054e+02\n",
      " 1.29154967e+03 1.00000000e+04]\n",
      "\n",
      " Accuracies obtained for the different values of C with 10-fold Cross-Validation:               0         0\n",
      "0      0.000100  0.568022\n",
      "1      0.000774  0.717745\n",
      "2      0.005995  0.791730\n",
      "3      0.046416  0.789689\n",
      "4      0.359381  0.795810\n",
      "5      2.782559  0.799812\n",
      "6     21.544347  0.797851\n",
      "7    166.810054  0.797851\n",
      "8   1291.549665  0.797851\n",
      "9  10000.000000  0.797851\n",
      "\n",
      " C_:  [2.7825594]\n",
      "\n",
      "10-fold Cross-Validation accuracies obtained with the best value of parameter C: 0.7998119247699079\n"
     ]
    },
    {
     "data": {
      "text/plain": [
       "LogisticRegression(C=2.782559402207126, class_weight=None, dual=False,\n",
       "          fit_intercept=True, intercept_scaling=1, max_iter=100,\n",
       "          multi_class='ovr', n_jobs=1, penalty='l2', random_state=None,\n",
       "          solver='liblinear', tol=0.0001, verbose=0, warm_start=False)"
      ]
     },
     "execution_count": 19,
     "metadata": {},
     "output_type": "execute_result"
    }
   ],
   "source": [
    "regL2 = LRCV(solver='newton-cg',penalty='l2',cv=10)\n",
    "\n",
    "#fit the model on training data\n",
    "regL2.fit(X_training,Y_training)\n",
    "\n",
    "# the attribute 'Cs_' contains ALL the values of C evaluated in cross-validation;\n",
    "# let's print them\n",
    "print(\"Values of parameter C tried in 10-fold Cross-Validation: {}\".format( regL2.Cs_ ))\n",
    "\n",
    "# the attribute 'scores_' contains the accuracy obtained in each fold, for each value \n",
    "# of C tried; we now compute the average accuracy across the 10 folds\n",
    "\n",
    "\n",
    "CS=pd.DataFrame(regL2.Cs_ )\n",
    "matrix_mean=pd.DataFrame(regL2.scores_[1])\n",
    "\n",
    "medie=pd.DataFrame(matrix_mean.mean(axis=0))\n",
    "#print(medie)\n",
    "CV_accuracies =pd.concat([CS, medie], axis=1)\n",
    "\n",
    "# let's print the average accuracies obtained for the various values of C\n",
    "\n",
    "print(\"\\n Accuracies obtained for the different values of C with 10-fold Cross-Validation: {}\".format( CV_accuracies ))\n",
    "\n",
    "# the attribute 'C_' contains the best value of C as identified by cross-validation;\n",
    "# let's print it\n",
    "\n",
    "print('\\n C_: ',regL2.C_)\n",
    "\n",
    "\n",
    "# let's store the best CV accuracy, and then print it\n",
    "Medie=matrix_mean.mean(axis=0)\n",
    "regL2_best_CV_accuracy = max(Medie)\n",
    "print(\"\\n10-fold Cross-Validation accuracies obtained with the best value of parameter C: {}\".format( regL2_best_CV_accuracy ))\n",
    "\n",
    "#define the model using the best C and an appropriate solver\n",
    "\n",
    "\n",
    "regL2_full = linear_model.LogisticRegression(C=float(regL2.C_))\n",
    "\n",
    "\n",
    "#fit the model using the best C on the entire training set\n",
    "\n",
    "regL2_full.fit(X_training,Y_training)\n",
    "\n"
   ]
  },
  {
   "cell_type": "code",
   "execution_count": 20,
   "metadata": {},
   "outputs": [
    {
     "name": "stdout",
     "output_type": "stream",
     "text": [
      "REG\n",
      "\n",
      " Coefficients obtained using the entire training set: [[ 0.53075751 -0.07018028 -0.40450283  0.68110101 -0.68110101 -0.60602897\n",
      "   0.2021472   0.16221021 -0.13733411 -0.28596163 -0.31587536 -0.65933127\n",
      "   0.00177855  0.05045485  0.09281054  0.08200243 -0.67268784 -0.04286341\n",
      "   0.01884421  0.04485076  0.02495258 -0.07713634  0.01288256]]\n",
      "num coeff:  23\n",
      "\n",
      "Intercept: [-0.50247288]\n",
      "REGL2\n",
      "\n",
      " \n",
      "Coefficients obtained using the entire training set: [[ 0.5240024  -0.06835184 -0.40015682  0.67798266 -0.67798266 -0.59632943\n",
      "   0.17652009  0.139795   -0.14489711 -0.2898126  -0.31924198 -0.36758428\n",
      "  -0.01906151  0.03386857  0.07796719  0.07730914 -0.399217   -0.04714858\n",
      "   0.01699701  0.04974408  0.02552176 -0.07627028  0.01194827]]\n",
      "\n",
      "num coeff:  23\n",
      "Intercept: [-0.45321825]\n"
     ]
    },
    {
     "data": {
      "image/png": "[encoded data removed]",
      "text/plain": [
       "<Figure size 432x288 with 1 Axes>"
      ]
     },
     "metadata": {
      "needs_background": "light"
     },
     "output_type": "display_data"
    }
   ],
   "source": [
    "print('REG\\n\\n',\"Coefficients obtained using the entire training set: {}\".format( reg_full.coef_ ))\n",
    "print('num coeff: ',reg_full.coef_.shape[1])\n",
    "\n",
    "# note that the intercept is not in coef_, it is in intercept_\n",
    "\n",
    "print(\"\\nIntercept: {}\".format( reg_full.intercept_ ))\n",
    "\n",
    "\n",
    "\n",
    "\n",
    "# print the coefficients from the logistic regression model.\n",
    "print('REGL2\\n\\n',\"\\nCoefficients obtained using the entire training set: {}\".format( regL2_full.coef_ ))\n",
    "print('\\nnum coeff: ',regL2_full.coef_.shape[1])\n",
    "\n",
    "\n",
    "# note that the intercept is not in coef_, it is in intercept_\n",
    "\n",
    "print(\"Intercept: {}\".format( regL2_full.intercept_ ))\n",
    "\n",
    "# Plot the coefficients\n",
    "regL2_full_coef = regL2_full.coef_.reshape(regL2_full.coef_.shape[1],)\n",
    "ind = np.arange(1,len(reg_coef)+1)  # the x locations for the groups\n",
    "width = 0.35       # the width of the bars\n",
    "fig, ax = plt.subplots()\n",
    "\n",
    "rects1 = ax.bar(ind, reg_coef, width, color='r')\n",
    "rects2 = ax.bar(ind + width, regL2_full_coef, width, color='y')\n",
    "ax.legend((rects1[0], rects2[0]), ('Log Regr', 'Log Regr + L2 Regul'))\n",
    "plt.xlabel('Coefficient Idx')\n",
    "plt.ylabel('Coefficient Value')\n",
    "plt.title('Logistic Regression Coefficients: Standard and Regularized Version')\n",
    "plt.show()"
   ]
  },
  {
   "cell_type": "code",
   "execution_count": 22,
   "metadata": {},
   "outputs": [
    {
     "name": "stdout",
     "output_type": "stream",
     "text": [
      "accuratezza per il training:  0.812\n",
      "accuratezza per il test:  0.7688679245283019\n"
     ]
    }
   ],
   "source": [
    "#now get training and test error and print training and test accuracy\n",
    "\n",
    "# predictions on training data \n",
    "Y_training_prediction_LR_L2 =  regL2_full.predict(X_training) \n",
    "\n",
    "# predictions on test data \n",
    "Y_test_prediction_LR_L2 =  regL2_full.predict(X_test)\n",
    "\n",
    "# compute accuracy as suggested above using metrics.accuracy_score from scikit-learn on training data\n",
    "\n",
    "print('accuratezza per il training: ',metrics.accuracy_score(Y_training, Y_training_prediction_LR_L2))\n",
    "\n",
    "# compute accuracy as suggested above using metrics.accuracy_score from scikit-learn on test data\n",
    "\n",
    "print('accuratezza per il test: ',metrics.accuracy_score(Y_test, Y_test_prediction_LR_L2))"
   ]
  },
  {
   "cell_type": "markdown",
   "metadata": {
    "collapsed": true
   },
   "source": [
    "### TODO 10: Discuss all the questions above for the larger set (max 7 lines)\n"
   ]
  },
  {
   "cell_type": "markdown",
   "metadata": {},
   "source": [
    "### how many coefficients do you get? Why? How many of them are \"close\" to 0? \n",
    "\n",
    "il numero di coefficienti è rimasto invariato, si osserva ora che il numero di coefficienti vicini a 0 è diminuito o per lo meno i valori assunti da tali coefficienti sono aumentati.\n",
    "\n",
    "### how do the coefficients from L2 regularization compare to the ones from logistic regression?\n",
    "\n",
    "ancora una volta i coefficienti si abbassano una volta che viene eseguita la regolarizzazione anche se in questo caso i nuovi coefficienti sono più vicini a quelli non regolarizzati (nel caso del training più piccolo si riducevano notevolmente)\n",
    "\n",
    "\n",
    "\n",
    "###  how does accuracy compare to logistic regression? Comment\n",
    "\n",
    "nel caso di training set più ampio i due metodi sembrano convergere in quanto ad output, se la regilarizzazione migliora l'accuratezza lo fa in una percentuale irrisoria\n",
    "\n",
    "\n",
    "comparando invece l'accuratezza del training set ampio con quello ridotto si ha che in generale (sia con che senza regolarizzazione) essa aumenta utilizzando il set più ampio"
   ]
  },
  {
   "cell_type": "code",
   "execution_count": null,
   "metadata": {},
   "outputs": [],
   "source": []
  }
 ],
 "metadata": {
  "anaconda-cloud": {},
  "kernelspec": {
   "display_name": "Python 3",
   "language": "python",
   "name": "python3"
  },
  "language_info": {
   "codemirror_mode": {
    "name": "ipython",
    "version": 3
   },
   "file_extension": ".py",
   "mimetype": "text/x-python",
   "name": "python",
   "nbconvert_exporter": "python",
   "pygments_lexer": "ipython3",
   "version": "3.7.0"
  }
 },
 "nbformat": 4,
 "nbformat_minor": 1
}
