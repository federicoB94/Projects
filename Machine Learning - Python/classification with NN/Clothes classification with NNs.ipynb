{
 "cells": [
  {
   "cell_type": "markdown",
   "metadata": {},
   "source": [
    "# Neural Networks\n",
    "\n",
    "In this notebook we are going to explore the Neural Networks for image classification. We are going to use the same dataset of the SVM notebook: Fashion MNIST (https://pravarmahajan.github.io/fashion/), a dataset of small images of clothes and accessories.\n",
    "\n",
    "The dataset labels are the following:\n",
    "\n",
    "| Label | Description |\n",
    "| --- | --- |\n",
    "| 0 | T-shirt/top |\n",
    "| 1 | Trouser |\n",
    "| 2 | Pullover |\n",
    "| 3 | Dress |\n",
    "| 4 | Coat |\n",
    "| 5 | Sandal |\n",
    "| 6 | Shirt |\n",
    "| 7 | Sneaker |\n",
    "| 8 | Bag |\n",
    "| 9 | Ankle boot |"
   ]
  },
  {
   "cell_type": "code",
   "execution_count": 1,
   "metadata": {},
   "outputs": [],
   "source": [
    "#load the required packages\n",
    "\n",
    "%matplotlib inline  \n",
    "\n",
    "import numpy as np\n",
    "import scipy as sp\n",
    "import matplotlib.pyplot as plt\n",
    "import pandas as pd\n",
    "\n",
    "import sklearn\n",
    "from sklearn.neural_network import MLPClassifier\n",
    "from sklearn.model_selection import GridSearchCV\n",
    "from sklearn.svm import SVC"
   ]
  },
  {
   "cell_type": "code",
   "execution_count": 2,
   "metadata": {},
   "outputs": [],
   "source": [
    "# helper function to load Fashion MNIST dataset from disk\n",
    "def load_mnist(path, kind='train'):\n",
    "    import os\n",
    "    import gzip\n",
    "    import numpy as np\n",
    "    labels_path = os.path.join(path, '%s-labels-idx1-ubyte.gz' % kind)\n",
    "    images_path = os.path.join(path, '%s-images-idx3-ubyte.gz' % kind)\n",
    "    with gzip.open(labels_path, 'rb') as lbpath:\n",
    "        labels = np.frombuffer(lbpath.read(), dtype=np.uint8,offset=8)\n",
    "    with gzip.open(images_path, 'rb') as imgpath:\n",
    "        images = np.frombuffer(imgpath.read(), dtype=np.uint8,offset=16).reshape(len(labels), 784)\n",
    "    return images, labels"
   ]
  },
  {
   "cell_type": "markdown",
   "metadata": {},
   "source": [
    "# TODO \n",
    "Place your ID (\"numero di matricola\") that will be used as seed for random generator. You can try to change the seed to see the impact of the randomization."
   ]
  },
  {
   "cell_type": "code",
   "execution_count": 3,
   "metadata": {},
   "outputs": [],
   "source": [
    "ID = 1206077\n",
    "np.random.seed(ID)"
   ]
  },
  {
   "cell_type": "code",
   "execution_count": 4,
   "metadata": {},
   "outputs": [],
   "source": [
    "#load the MNIST dataset and let's normalize the features so that each value is in [0,1]\n",
    "X, y = load_mnist(\"data\")\n",
    "# rescale the data\n",
    "X = X / 255.0"
   ]
  },
  {
   "cell_type": "markdown",
   "metadata": {},
   "source": [
    "Now split into training and test. Make sure that each label is present at least 10 times\n",
    "in training frequencies."
   ]
  },
  {
   "cell_type": "code",
   "execution_count": 5,
   "metadata": {},
   "outputs": [
    {
     "name": "stdout",
     "output_type": "stream",
     "text": [
      "Labels in training dataset:  [0 1 2 3 4 5 6 7 8 9]\n",
      "Frequencies in training dataset:  [57 47 52 53 42 42 65 45 45 52]\n"
     ]
    }
   ],
   "source": [
    "#random permute the data and split into training and test taking the first 500\n",
    "#data samples as training and the rests as test\n",
    "permutation = np.random.permutation(X.shape[0])\n",
    "\n",
    "X = X[permutation]\n",
    "y = y[permutation]\n",
    "\n",
    "m_training = 500\n",
    "\n",
    "X_train, X_test = X[:m_training], X[m_training:]\n",
    "y_train, y_test = y[:m_training], y[m_training:]\n",
    "\n",
    "labels, freqs = np.unique(y_train, return_counts=True)\n",
    "print(\"Labels in training dataset: \", labels)\n",
    "print(\"Frequencies in training dataset: \", freqs)\n"
   ]
  },
  {
   "cell_type": "code",
   "execution_count": 6,
   "metadata": {},
   "outputs": [],
   "source": [
    "#function for plotting a image and printing the corresponding label\n",
    "def plot_input(X_matrix, labels, index):\n",
    "    print(\"INPUT:\")\n",
    "    plt.imshow(\n",
    "        X_matrix[index].reshape(28,28),\n",
    "        cmap          = plt.cm.gray_r,\n",
    "        interpolation = \"nearest\"\n",
    "    )\n",
    "    plt.show()\n",
    "    print(\"LABEL: %i\"%labels[index])\n",
    "    return"
   ]
  },
  {
   "cell_type": "code",
   "execution_count": 7,
   "metadata": {},
   "outputs": [
    {
     "name": "stdout",
     "output_type": "stream",
     "text": [
      "INPUT:\n"
     ]
    },
    {
     "data": {
      "image/png": "[encoded data removed]",
      "text/plain": [
       "<Figure size 432x288 with 1 Axes>"
      ]
     },
     "metadata": {
      "needs_background": "light"
     },
     "output_type": "display_data"
    },
    {
     "name": "stdout",
     "output_type": "stream",
     "text": [
      "LABEL: 7\n",
      "INPUT:\n"
     ]
    },
    {
     "data": {
      "image/png": "[encoded data removed]",
      "text/plain": [
       "<Figure size 432x288 with 1 Axes>"
      ]
     },
     "metadata": {
      "needs_background": "light"
     },
     "output_type": "display_data"
    },
    {
     "name": "stdout",
     "output_type": "stream",
     "text": [
      "LABEL: 1\n",
      "INPUT:\n"
     ]
    },
    {
     "data": {
      "image/png": "[encoded data removed]",
      "text/plain": [
       "<Figure size 432x288 with 1 Axes>"
      ]
     },
     "metadata": {
      "needs_background": "light"
     },
     "output_type": "display_data"
    },
    {
     "name": "stdout",
     "output_type": "stream",
     "text": [
      "LABEL: 6\n"
     ]
    }
   ],
   "source": [
    "#let's try the plotting function\n",
    "plot_input(X_train,y_train,10)\n",
    "plot_input(X_test,y_test,100)\n",
    "plot_input(X_test,y_test,10000)"
   ]
  },
  {
   "cell_type": "markdown",
   "metadata": {},
   "source": [
    "## TO DO 1\n",
    "\n",
    "Now use a Feed-forward Neural Network for prediction. Use the multi-layer perceptron classifier, with the following parameters: max_iter=300, alpha=1e-4, solver='sgd', tol=1e-4, learning_rate_init=.1, random_state=ID (this last parameter ensures the run is the same even if you run it more than once). The alpha parameter is the regularization term.\n",
    "\n",
    "Then, using the default activation function, pick four or five architectures to consider, with different numbers of hidden layers and different sizes. It is not necessary to create huge neural networks, you can limit to 3 layers and, for each layer, its maximum size can be of 100. Evaluate the architectures you chose using the GridSearchCV with cv=5.\n"
   ]
  },
  {
   "cell_type": "code",
   "execution_count": 8,
   "metadata": {},
   "outputs": [
    {
     "name": "stderr",
     "output_type": "stream",
     "text": [
      "/anaconda3/lib/python3.7/site-packages/sklearn/model_selection/_search.py:841: DeprecationWarning: The default of the `iid` parameter will change from True to False in version 0.22 and will be removed in 0.24. This will change numeric results when test-set sizes are unequal.\n",
      "  DeprecationWarning)\n"
     ]
    },
    {
     "name": "stdout",
     "output_type": "stream",
     "text": [
      "RESULTS FOR NN\n",
      "\n",
      "Best parameters set found:\n",
      "{'hidden_layer_sizes': (100,)}\n",
      "Score with best parameters:\n",
      "0.666\n",
      "\n",
      "All scores on the grid:\n"
     ]
    },
    {
     "data": {
      "text/html": [
       "<div>\n",
       "<style scoped>\n",
       "    .dataframe tbody tr th:only-of-type {\n",
       "        vertical-align: middle;\n",
       "    }\n",
       "\n",
       "    .dataframe tbody tr th {\n",
       "        vertical-align: top;\n",
       "    }\n",
       "\n",
       "    .dataframe thead th {\n",
       "        text-align: right;\n",
       "    }\n",
       "</style>\n",
       "<table border=\"1\" class=\"dataframe\">\n",
       "  <thead>\n",
       "    <tr style=\"text-align: right;\">\n",
       "      <th></th>\n",
       "      <th>mean_test_score</th>\n",
       "      <th>params</th>\n",
       "    </tr>\n",
       "  </thead>\n",
       "  <tbody>\n",
       "    <tr>\n",
       "      <th>0</th>\n",
       "      <td>0.440</td>\n",
       "      <td>{'hidden_layer_sizes': (10,)}</td>\n",
       "    </tr>\n",
       "    <tr>\n",
       "      <th>1</th>\n",
       "      <td>0.530</td>\n",
       "      <td>{'hidden_layer_sizes': (50,)}</td>\n",
       "    </tr>\n",
       "    <tr>\n",
       "      <th>2</th>\n",
       "      <td>0.666</td>\n",
       "      <td>{'hidden_layer_sizes': (100,)}</td>\n",
       "    </tr>\n",
       "    <tr>\n",
       "      <th>3</th>\n",
       "      <td>0.336</td>\n",
       "      <td>{'hidden_layer_sizes': (10, 10)}</td>\n",
       "    </tr>\n",
       "    <tr>\n",
       "      <th>4</th>\n",
       "      <td>0.440</td>\n",
       "      <td>{'hidden_layer_sizes': (50, 50)}</td>\n",
       "    </tr>\n",
       "    <tr>\n",
       "      <th>5</th>\n",
       "      <td>0.546</td>\n",
       "      <td>{'hidden_layer_sizes': (100, 100)}</td>\n",
       "    </tr>\n",
       "    <tr>\n",
       "      <th>6</th>\n",
       "      <td>0.304</td>\n",
       "      <td>{'hidden_layer_sizes': (10, 10, 10)}</td>\n",
       "    </tr>\n",
       "    <tr>\n",
       "      <th>7</th>\n",
       "      <td>0.424</td>\n",
       "      <td>{'hidden_layer_sizes': (50, 50, 50)}</td>\n",
       "    </tr>\n",
       "    <tr>\n",
       "      <th>8</th>\n",
       "      <td>0.560</td>\n",
       "      <td>{'hidden_layer_sizes': (100, 100, 100)}</td>\n",
       "    </tr>\n",
       "  </tbody>\n",
       "</table>\n",
       "</div>"
      ],
      "text/plain": [
       "   mean_test_score                                   params\n",
       "0            0.440            {'hidden_layer_sizes': (10,)}\n",
       "1            0.530            {'hidden_layer_sizes': (50,)}\n",
       "2            0.666           {'hidden_layer_sizes': (100,)}\n",
       "3            0.336         {'hidden_layer_sizes': (10, 10)}\n",
       "4            0.440         {'hidden_layer_sizes': (50, 50)}\n",
       "5            0.546       {'hidden_layer_sizes': (100, 100)}\n",
       "6            0.304     {'hidden_layer_sizes': (10, 10, 10)}\n",
       "7            0.424     {'hidden_layer_sizes': (50, 50, 50)}\n",
       "8            0.560  {'hidden_layer_sizes': (100, 100, 100)}"
      ]
     },
     "execution_count": 8,
     "metadata": {},
     "output_type": "execute_result"
    }
   ],
   "source": [
    "parameters = {'hidden_layer_sizes': [(10,), (50,),(100,), (10,10,), (50,50,), (100,100,),(10,10,10),(50,50,50),(100,100,100)]}\n",
    "\n",
    "mlp = MLPClassifier(max_iter=300, alpha=1e-4,\n",
    "                    solver='sgd', tol=1e-4, random_state=ID,\n",
    "                    learning_rate_init=.1)\n",
    "\n",
    "#ADD YOUR CODE\n",
    "\n",
    "classificatore = GridSearchCV(mlp,parameters, cv=5, return_train_score=True)\n",
    "classificatore.fit(X_train, y_train)\n",
    "\n",
    "print ('RESULTS FOR NN\\n')\n",
    "\n",
    "print(\"Best parameters set found:\")\n",
    "#ADD YOUR CODE\n",
    "best_p=classificatore.best_params_\n",
    "print(best_p)\n",
    "\n",
    "print(\"Score with best parameters:\")\n",
    "#ADD YOUR CODE\n",
    "score=classificatore.best_score_\n",
    "print(score)\n",
    "\n",
    "print(\"\\nAll scores on the grid:\")\n",
    "#ADD YOUR CODE\n",
    "risultati=pd.DataFrame(classificatore.cv_results_ )\n",
    "risultati[['mean_test_score','params']]"
   ]
  },
  {
   "cell_type": "markdown",
   "metadata": {},
   "source": [
    "### QUESTION 1\n",
    "\n",
    "What do you observe for different architectures and their scores? How the nummber of layers and their sizes affect the performances?\n",
    "\n",
    "Come si può notare dalla tabella soprastante il miglior risultato si è ottenuto utilizzando un solo layer con dimensione 100. Osservando l'andamento generale si nota che aumentando il numero di layer si ha un cambiamento di accuratezza non troppo rilevante mentre mantenendo il numero di layer fisso e andando ad aumentare la dimensione si ha un sostanziale miglioramento dello score.\n"
   ]
  },
  {
   "cell_type": "markdown",
   "metadata": {},
   "source": [
    "### TO DO 2\n",
    "\n",
    "Now get training and test error for a NN with best parameters from above. Use verbose=True\n",
    "in input so to see how loss changes in iterations"
   ]
  },
  {
   "cell_type": "code",
   "execution_count": 9,
   "metadata": {},
   "outputs": [
    {
     "name": "stdout",
     "output_type": "stream",
     "text": [
      "Iteration 1, loss = 2.20127349\n",
      "Iteration 2, loss = 1.40804498\n",
      "Iteration 3, loss = 1.26506532\n",
      "Iteration 4, loss = 0.95941780\n",
      "Iteration 5, loss = 0.76234571\n",
      "Iteration 6, loss = 0.65866221\n",
      "Iteration 7, loss = 0.56442832\n",
      "Iteration 8, loss = 0.56065921\n",
      "Iteration 9, loss = 0.61401649\n",
      "Iteration 10, loss = 0.51500892\n",
      "Iteration 11, loss = 0.43636524\n",
      "Iteration 12, loss = 0.44147674\n",
      "Iteration 13, loss = 0.39623214\n",
      "Iteration 14, loss = 0.43079893\n",
      "Iteration 15, loss = 0.32737097\n",
      "Iteration 16, loss = 0.38036824\n",
      "Iteration 17, loss = 0.28843408\n",
      "Iteration 18, loss = 0.27037295\n",
      "Iteration 19, loss = 0.23909737\n",
      "Iteration 20, loss = 0.37435926\n",
      "Iteration 21, loss = 0.28382902\n",
      "Iteration 22, loss = 0.20659478\n",
      "Iteration 23, loss = 0.19340521\n",
      "Iteration 24, loss = 0.17885380\n",
      "Iteration 25, loss = 0.21087991\n",
      "Iteration 26, loss = 0.23770391\n",
      "Iteration 27, loss = 0.18060325\n",
      "Iteration 28, loss = 0.11880844\n",
      "Iteration 29, loss = 0.11534764\n",
      "Iteration 30, loss = 0.10577073\n",
      "Iteration 31, loss = 0.09540153\n",
      "Iteration 32, loss = 0.09333273\n",
      "Iteration 33, loss = 0.08336923\n",
      "Iteration 34, loss = 0.08081578\n",
      "Iteration 35, loss = 0.06520300\n",
      "Iteration 36, loss = 0.06406076\n",
      "Iteration 37, loss = 0.06314666\n",
      "Iteration 38, loss = 0.05292899\n",
      "Iteration 39, loss = 0.05759872\n",
      "Iteration 40, loss = 0.06045685\n",
      "Iteration 41, loss = 0.04844861\n",
      "Iteration 42, loss = 0.04175180\n",
      "Iteration 43, loss = 0.04075697\n",
      "Iteration 44, loss = 0.05109384\n",
      "Iteration 45, loss = 0.03371786\n",
      "Iteration 46, loss = 0.03118857\n",
      "Iteration 47, loss = 0.02905711\n",
      "Iteration 48, loss = 0.03027659\n",
      "Iteration 49, loss = 0.02557659\n",
      "Iteration 50, loss = 0.02410627\n",
      "Iteration 51, loss = 0.02360492\n",
      "Iteration 52, loss = 0.02233929\n",
      "Iteration 53, loss = 0.02345554\n",
      "Iteration 54, loss = 0.02081623\n",
      "Iteration 55, loss = 0.02070029\n",
      "Iteration 56, loss = 0.01858861\n",
      "Iteration 57, loss = 0.01919440\n",
      "Iteration 58, loss = 0.01759787\n",
      "Iteration 59, loss = 0.01654940\n",
      "Iteration 60, loss = 0.01625735\n",
      "Iteration 61, loss = 0.01530590\n",
      "Iteration 62, loss = 0.01489526\n",
      "Iteration 63, loss = 0.01433648\n",
      "Iteration 64, loss = 0.01464734\n",
      "Iteration 65, loss = 0.01369099\n",
      "Iteration 66, loss = 0.01392900\n",
      "Iteration 67, loss = 0.01310042\n",
      "Iteration 68, loss = 0.01246008\n",
      "Iteration 69, loss = 0.01211523\n",
      "Iteration 70, loss = 0.01220045\n",
      "Iteration 71, loss = 0.01169794\n",
      "Iteration 72, loss = 0.01108059\n",
      "Iteration 73, loss = 0.01104976\n",
      "Iteration 74, loss = 0.01098696\n",
      "Iteration 75, loss = 0.01037208\n",
      "Iteration 76, loss = 0.01025347\n",
      "Iteration 77, loss = 0.01024661\n",
      "Iteration 78, loss = 0.00977297\n",
      "Iteration 79, loss = 0.00951849\n",
      "Iteration 80, loss = 0.00919805\n",
      "Iteration 81, loss = 0.00903434\n",
      "Iteration 82, loss = 0.00884374\n",
      "Iteration 83, loss = 0.00866492\n",
      "Iteration 84, loss = 0.00849970\n",
      "Iteration 85, loss = 0.00832701\n",
      "Iteration 86, loss = 0.00817244\n",
      "Iteration 87, loss = 0.00799605\n",
      "Iteration 88, loss = 0.00786181\n",
      "Iteration 89, loss = 0.00766793\n",
      "Iteration 90, loss = 0.00768562\n",
      "Iteration 91, loss = 0.00770911\n",
      "Iteration 92, loss = 0.00740966\n",
      "Iteration 93, loss = 0.00717301\n",
      "Iteration 94, loss = 0.00707544\n",
      "Iteration 95, loss = 0.00695775\n",
      "Iteration 96, loss = 0.00675033\n",
      "Iteration 97, loss = 0.00667940\n",
      "Iteration 98, loss = 0.00659010\n",
      "Iteration 99, loss = 0.00650072\n",
      "Iteration 100, loss = 0.00639458\n",
      "Iteration 101, loss = 0.00632538\n",
      "Iteration 102, loss = 0.00625037\n",
      "Iteration 103, loss = 0.00612560\n",
      "Iteration 104, loss = 0.00601945\n",
      "Iteration 105, loss = 0.00592486\n",
      "Iteration 106, loss = 0.00584441\n",
      "Iteration 107, loss = 0.00573590\n",
      "Iteration 108, loss = 0.00564307\n",
      "Iteration 109, loss = 0.00556746\n",
      "Iteration 110, loss = 0.00549672\n",
      "Iteration 111, loss = 0.00545290\n",
      "Iteration 112, loss = 0.00536940\n",
      "Iteration 113, loss = 0.00528678\n",
      "Iteration 114, loss = 0.00521917\n",
      "Iteration 115, loss = 0.00520687\n",
      "Iteration 116, loss = 0.00507662\n",
      "Iteration 117, loss = 0.00502402\n",
      "Iteration 118, loss = 0.00493851\n",
      "Iteration 119, loss = 0.00487262\n",
      "Iteration 120, loss = 0.00485433\n",
      "Iteration 121, loss = 0.00476635\n",
      "Iteration 122, loss = 0.00474862\n",
      "Iteration 123, loss = 0.00467633\n",
      "Iteration 124, loss = 0.00463543\n",
      "Iteration 125, loss = 0.00457200\n",
      "Iteration 126, loss = 0.00449284\n",
      "Iteration 127, loss = 0.00447974\n",
      "Training loss did not improve more than tol=0.000100 for 10 consecutive epochs. Stopping.\n",
      "\n",
      "RESULTS FOR BEST NN\n",
      "\n",
      "Best NN training error: 0.000000\n",
      "Best NN test error: 0.206840\n"
     ]
    }
   ],
   "source": [
    "#get training and test error for the best NN model from CV\n",
    "\n",
    "#ADD YOUR CODE\n",
    "best_clf = MLPClassifier(hidden_layer_sizes=best_p['hidden_layer_sizes'], solver='sgd', alpha=1e-4, learning_rate_init=.1, \n",
    "                        max_iter=300,random_state=ID, tol=1e-4, verbose=True)\n",
    "\n",
    "\n",
    "best_clf.fit(X_train, y_train)\n",
    "\n",
    "training_error = 1. - best_clf.score(X_train,y_train) #ADD YOUR CODE\n",
    "test_error = 1. - best_clf.score(X_test,y_test)\n",
    "\n",
    "print ('\\nRESULTS FOR BEST NN\\n')\n",
    "\n",
    "print (\"Best NN training error: %f\" % training_error)\n",
    "print (\"Best NN test error: %f\" % test_error)"
   ]
  },
  {
   "cell_type": "markdown",
   "metadata": {},
   "source": [
    "## More data \n",
    "Now let's do the same but using 10000 (or less if it takes too long on your machine) data points for training. Use the same NN architectures as before, but you can try more if you want!"
   ]
  },
  {
   "cell_type": "code",
   "execution_count": 10,
   "metadata": {},
   "outputs": [
    {
     "name": "stdout",
     "output_type": "stream",
     "text": [
      "Labels and frequencies in training dataset: \n"
     ]
    },
    {
     "data": {
      "text/plain": [
       "(array([0, 1, 2, 3, 4, 5, 6, 7, 8, 9], dtype=uint8),\n",
       " array([ 990,  993, 1011,  996, 1010,  973, 1040,  972, 1025,  990]))"
      ]
     },
     "execution_count": 10,
     "metadata": {},
     "output_type": "execute_result"
    }
   ],
   "source": [
    "X = X[permutation]\n",
    "y = y[permutation]\n",
    "\n",
    "m_training = 10000\n",
    "\n",
    "X_train, X_test = X[:m_training], X[m_training:]\n",
    "y_train, y_test = y[:m_training], y[m_training:]\n",
    "\n",
    "print(\"Labels and frequencies in training dataset: \")\n",
    "np.unique(y_train, return_counts=True)"
   ]
  },
  {
   "cell_type": "markdown",
   "metadata": {},
   "source": [
    "## TO DO 3\n",
    "\n",
    "Now train the NNs with the added data points. Feel free to try more different architectures than before if you want, or less if it takes too much time. We suggest that you use 'verbose=True' so have an idea of how long it takes to run 1 iteration (eventually reduce also the number of iterations to 50)."
   ]
  },
  {
   "cell_type": "code",
   "execution_count": 11,
   "metadata": {},
   "outputs": [
    {
     "name": "stderr",
     "output_type": "stream",
     "text": [
      "/anaconda3/lib/python3.7/site-packages/sklearn/model_selection/_search.py:841: DeprecationWarning: The default of the `iid` parameter will change from True to False in version 0.22 and will be removed in 0.24. This will change numeric results when test-set sizes are unequal.\n",
      "  DeprecationWarning)\n"
     ]
    },
    {
     "name": "stdout",
     "output_type": "stream",
     "text": [
      "\n",
      "RESULTS FOR NN\n",
      "\n",
      "Best parameters set found:\n",
      "{'hidden_layer_sizes': (100, 100)}\n",
      "Score with best parameters:\n",
      "0.8146\n",
      "\n",
      "All scores on the grid:\n"
     ]
    },
    {
     "data": {
      "text/html": [
       "<div>\n",
       "<style scoped>\n",
       "    .dataframe tbody tr th:only-of-type {\n",
       "        vertical-align: middle;\n",
       "    }\n",
       "\n",
       "    .dataframe tbody tr th {\n",
       "        vertical-align: top;\n",
       "    }\n",
       "\n",
       "    .dataframe thead th {\n",
       "        text-align: right;\n",
       "    }\n",
       "</style>\n",
       "<table border=\"1\" class=\"dataframe\">\n",
       "  <thead>\n",
       "    <tr style=\"text-align: right;\">\n",
       "      <th></th>\n",
       "      <th>mean_test_score</th>\n",
       "      <th>params</th>\n",
       "    </tr>\n",
       "  </thead>\n",
       "  <tbody>\n",
       "    <tr>\n",
       "      <th>0</th>\n",
       "      <td>0.5841</td>\n",
       "      <td>{'hidden_layer_sizes': (10,)}</td>\n",
       "    </tr>\n",
       "    <tr>\n",
       "      <th>1</th>\n",
       "      <td>0.7875</td>\n",
       "      <td>{'hidden_layer_sizes': (50,)}</td>\n",
       "    </tr>\n",
       "    <tr>\n",
       "      <th>2</th>\n",
       "      <td>0.7991</td>\n",
       "      <td>{'hidden_layer_sizes': (100,)}</td>\n",
       "    </tr>\n",
       "    <tr>\n",
       "      <th>3</th>\n",
       "      <td>0.5023</td>\n",
       "      <td>{'hidden_layer_sizes': (10, 10)}</td>\n",
       "    </tr>\n",
       "    <tr>\n",
       "      <th>4</th>\n",
       "      <td>0.5462</td>\n",
       "      <td>{'hidden_layer_sizes': (50, 50)}</td>\n",
       "    </tr>\n",
       "    <tr>\n",
       "      <th>5</th>\n",
       "      <td>0.8146</td>\n",
       "      <td>{'hidden_layer_sizes': (100, 100)}</td>\n",
       "    </tr>\n",
       "    <tr>\n",
       "      <th>6</th>\n",
       "      <td>0.5471</td>\n",
       "      <td>{'hidden_layer_sizes': (10, 10, 10)}</td>\n",
       "    </tr>\n",
       "    <tr>\n",
       "      <th>7</th>\n",
       "      <td>0.6686</td>\n",
       "      <td>{'hidden_layer_sizes': (50, 50, 50)}</td>\n",
       "    </tr>\n",
       "    <tr>\n",
       "      <th>8</th>\n",
       "      <td>0.5468</td>\n",
       "      <td>{'hidden_layer_sizes': (100, 100, 100)}</td>\n",
       "    </tr>\n",
       "  </tbody>\n",
       "</table>\n",
       "</div>"
      ],
      "text/plain": [
       "   mean_test_score                                   params\n",
       "0           0.5841            {'hidden_layer_sizes': (10,)}\n",
       "1           0.7875            {'hidden_layer_sizes': (50,)}\n",
       "2           0.7991           {'hidden_layer_sizes': (100,)}\n",
       "3           0.5023         {'hidden_layer_sizes': (10, 10)}\n",
       "4           0.5462         {'hidden_layer_sizes': (50, 50)}\n",
       "5           0.8146       {'hidden_layer_sizes': (100, 100)}\n",
       "6           0.5471     {'hidden_layer_sizes': (10, 10, 10)}\n",
       "7           0.6686     {'hidden_layer_sizes': (50, 50, 50)}\n",
       "8           0.5468  {'hidden_layer_sizes': (100, 100, 100)}"
      ]
     },
     "execution_count": 11,
     "metadata": {},
     "output_type": "execute_result"
    }
   ],
   "source": [
    "#for NN we try the same architectures as before\n",
    "parameters = {'hidden_layer_sizes': [(10,), (50,),(100,), (10,10,), (50,50,), (100,100,),(10,10,10),(50,50,50),(100,100,100)]}\n",
    "\n",
    "#ADD YOUR CODE\n",
    "mlp_large_CV = MLPClassifier(max_iter=300, alpha=1e-4,\n",
    "                    solver='sgd', tol=1e-4, random_state=ID,\n",
    "                    learning_rate_init=.1)\n",
    "\n",
    "\n",
    "classificatore_large = GridSearchCV(estimator=mlp_large_CV, param_grid=parameters, cv=5, return_train_score=True)\n",
    "classificatore_large.fit(X_train, y_train)\n",
    "\n",
    "print ('\\nRESULTS FOR NN\\n')\n",
    "\n",
    "print(\"Best parameters set found:\")\n",
    "print(classificatore_large.best_params_)\n",
    "\n",
    "print(\"Score with best parameters:\")\n",
    "print(classificatore_large.best_score_)\n",
    "\n",
    "print(\"\\nAll scores on the grid:\")\n",
    "risultati_l=pd.DataFrame(classificatore_large.cv_results_ )\n",
    "risultati_l[['mean_test_score','params']]"
   ]
  },
  {
   "cell_type": "markdown",
   "metadata": {},
   "source": [
    "## QUESTION 2\n",
    "Describe your architecture choices and the results you observe with respect to the layers and sizes used.\n",
    "\n",
    "Similmente a quanto osservato sopra si nota che all'aumentare della dimensione aumenta lo score mentre aumentando il numero di layer non vi è un particolare miglioramento di score. Si ha però che con 3 layer con dimensione 100 lo score è inferiore che con dimensione 50."
   ]
  },
  {
   "cell_type": "markdown",
   "metadata": {},
   "source": [
    "## TO DO 4\n",
    "\n",
    "Get the train and test error for the best NN you obtained with 10000 points. This time you can run for 100 iterations. \n"
   ]
  },
  {
   "cell_type": "code",
   "execution_count": 12,
   "metadata": {},
   "outputs": [
    {
     "name": "stdout",
     "output_type": "stream",
     "text": [
      "Iteration 1, loss = 0.99931688\n",
      "Iteration 2, loss = 0.50148408\n",
      "Iteration 3, loss = 0.42326050\n",
      "Iteration 4, loss = 0.39524524\n",
      "Iteration 5, loss = 0.36920535\n",
      "Iteration 6, loss = 0.34226691\n",
      "Iteration 7, loss = 0.32630735\n",
      "Iteration 8, loss = 0.30734840\n",
      "Iteration 9, loss = 0.29930007\n",
      "Iteration 10, loss = 0.26808123\n",
      "Iteration 11, loss = 0.26770696\n",
      "Iteration 12, loss = 0.25555399\n",
      "Iteration 13, loss = 0.26221975\n",
      "Iteration 14, loss = 0.23885261\n",
      "Iteration 15, loss = 0.22625868\n",
      "Iteration 16, loss = 0.21212526\n",
      "Iteration 17, loss = 0.20655711\n",
      "Iteration 18, loss = 0.18729053\n",
      "Iteration 19, loss = 0.18434467\n",
      "Iteration 20, loss = 0.17225403\n",
      "Iteration 21, loss = 0.18984215\n",
      "Iteration 22, loss = 0.17165045\n",
      "Iteration 23, loss = 0.16472794\n",
      "Iteration 24, loss = 0.15912139\n",
      "Iteration 25, loss = 0.15223286\n",
      "Iteration 26, loss = 0.15244475\n",
      "Iteration 27, loss = 0.15298629\n",
      "Iteration 28, loss = 0.16928276\n",
      "Iteration 29, loss = 0.14141359\n",
      "Iteration 30, loss = 0.13413277\n",
      "Iteration 31, loss = 0.13138536\n",
      "Iteration 32, loss = 0.11164450\n",
      "Iteration 33, loss = 0.11406835\n",
      "Iteration 34, loss = 0.12011311\n",
      "Iteration 35, loss = 0.11071672\n",
      "Iteration 36, loss = 0.10345388\n",
      "Iteration 37, loss = 0.10235311\n",
      "Iteration 38, loss = 0.11490354\n",
      "Iteration 39, loss = 0.09235560\n",
      "Iteration 40, loss = 0.09686105\n",
      "Iteration 41, loss = 0.08785620\n",
      "Iteration 42, loss = 0.09867817\n",
      "Iteration 43, loss = 0.09739149\n",
      "Iteration 44, loss = 0.09171092\n",
      "Iteration 45, loss = 0.08035061\n",
      "Iteration 46, loss = 0.09843305\n",
      "Iteration 47, loss = 0.08151161\n",
      "Iteration 48, loss = 0.09766125\n",
      "Iteration 49, loss = 0.06846050\n",
      "Iteration 50, loss = 0.07006031\n",
      "Iteration 51, loss = 0.07110631\n",
      "Iteration 52, loss = 0.06701161\n",
      "Iteration 53, loss = 0.07163650\n",
      "Iteration 54, loss = 0.08816463\n",
      "Iteration 55, loss = 0.06739662\n",
      "Iteration 56, loss = 0.06040031\n",
      "Iteration 57, loss = 0.06543547\n",
      "Iteration 58, loss = 0.04651204\n",
      "Iteration 59, loss = 0.04617167\n",
      "Iteration 60, loss = 0.06089809\n",
      "Iteration 61, loss = 0.06149387\n",
      "Iteration 62, loss = 0.09591712\n",
      "Iteration 63, loss = 0.05914759\n",
      "Iteration 64, loss = 0.06294027\n",
      "Iteration 65, loss = 0.05035092\n",
      "Iteration 66, loss = 0.04810985\n",
      "Iteration 67, loss = 0.04897601\n",
      "Iteration 68, loss = 0.04003457\n",
      "Iteration 69, loss = 0.04646196\n",
      "Iteration 70, loss = 0.03109016\n",
      "Iteration 71, loss = 0.02935183\n",
      "Iteration 72, loss = 0.03419138\n",
      "Iteration 73, loss = 0.04560096\n",
      "Iteration 74, loss = 0.04452342\n",
      "Iteration 75, loss = 0.05089953\n",
      "Iteration 76, loss = 0.05224679\n",
      "Iteration 77, loss = 0.07000105\n",
      "Iteration 78, loss = 0.03242566\n",
      "Iteration 79, loss = 0.04635506\n",
      "Iteration 80, loss = 0.02908347\n",
      "Iteration 81, loss = 0.05468334\n",
      "Iteration 82, loss = 0.05173330\n",
      "Iteration 83, loss = 0.04508573\n",
      "Iteration 84, loss = 0.03747866\n",
      "Iteration 85, loss = 0.03730046\n",
      "Iteration 86, loss = 0.03359566\n",
      "Iteration 87, loss = 0.05674115\n",
      "Iteration 88, loss = 0.05233022\n",
      "Iteration 89, loss = 0.04201847\n",
      "Iteration 90, loss = 0.04280702\n",
      "Iteration 91, loss = 0.04676152\n",
      "Training loss did not improve more than tol=0.000100 for 10 consecutive epochs. Stopping.\n",
      "RESULTS FOR BEST NN\n",
      "\n",
      "Best NN training error: 0.010800\n",
      "Best NN test error: 0.140340\n"
     ]
    }
   ],
   "source": [
    "#get training and test error for the best NN model from CV\n",
    "\n",
    "#ADD YOUR CODE\n",
    "best_p_l=classificatore_large.best_params_\n",
    "best_clf_large = MLPClassifier(hidden_layer_sizes=best_p_l['hidden_layer_sizes'], solver='sgd', alpha=1e-4, learning_rate_init=.1, \n",
    "                        max_iter=300,random_state=ID, tol=1e-4, verbose=True)\n",
    "\n",
    "\n",
    "best_clf_large.fit(X_train, y_train)\n",
    "\n",
    "training_error = 1. - best_clf_large.score(X_train,y_train) #ADD YOUR CODE\n",
    "test_error = 1. - best_clf_large.score(X_test,y_test)\n",
    "\n",
    "print ('RESULTS FOR BEST NN\\n')\n",
    "\n",
    "print (\"Best NN training error: %f\" % training_error)\n",
    "print (\"Best NN test error: %f\" % test_error)"
   ]
  },
  {
   "cell_type": "markdown",
   "metadata": {},
   "source": [
    "## QUESTION 3\n",
    "\n",
    "Compare the train and test error you got with a large number of samples with the best one you obtained with only 500 data points. Are the architectures the same or do they differ? What about the errors you get?"
   ]
  },
  {
   "cell_type": "markdown",
   "metadata": {},
   "source": [
    "[ADD YOR ANSWER HERE]\n",
    "\n",
    "per quanto riguarda l'errore sul test set esso è inferiore aumentando la dimensione del training e quindi si ha sicuramente una maggior accuratezza. L'architettura non viene mantenuta uguale a quella trovata in precendenza, con 500 dati infatti si otteneva il miglior risultato con un architettura : \"(100)\" mentre aumentando la dimensione del training si ha un architettura del tipo: \"(100,100)\". In realtà è possibile che il non mantenimento sia dovuto anche a una questione probabilistica legata al particolare seed scelto; osservando infatti gli score ottenuti con il training ampliato si ha che le due architetture (100) e (100,100) hanno uno score molto simile."
   ]
  },
  {
   "cell_type": "markdown",
   "metadata": {},
   "source": [
    "### TO DO 5\n",
    "\n",
    "Plot a digit that was missclassified by NN with m=500 training data points and it is now instead correctly classified by NN with m=10000 training data points."
   ]
  },
  {
   "cell_type": "code",
   "execution_count": 13,
   "metadata": {},
   "outputs": [
    {
     "name": "stdout",
     "output_type": "stream",
     "text": [
      "1 != 3\n",
      "INPUT:\n"
     ]
    },
    {
     "data": {
      "image/png": "[encoded data removed]",
      "text/plain": [
       "<Figure size 432x288 with 1 Axes>"
      ]
     },
     "metadata": {
      "needs_background": "light"
     },
     "output_type": "display_data"
    },
    {
     "name": "stdout",
     "output_type": "stream",
     "text": [
      "LABEL: 3\n"
     ]
    }
   ],
   "source": [
    "NN_prediction = best_clf.predict(X_test)\n",
    "large_NN_prediction = best_clf_large.predict(X_test)\n",
    "  \n",
    "for i in range(len(y_test)):\n",
    "    if (y_test[i]!=NN_prediction[i] ) and (y_test[i]==large_NN_prediction[i]):\n",
    "        print(NN_prediction[i],'!=',large_NN_prediction[i])\n",
    "        plot_input(X_test, y_test, i)\n",
    "        break"
   ]
  },
  {
   "cell_type": "markdown",
   "metadata": {},
   "source": [
    "Let's plot the weigths of the multi-layer perceptron classifier, for the best NN we get with 500 data points and with 50000 data points. Notice that the code assumes that the NNs are called \"mlp\" and \"best_mlp_large\" , you could need to replace with your variable names.\n",
    "\n"
   ]
  },
  {
   "cell_type": "code",
   "execution_count": 16,
   "metadata": {},
   "outputs": [
    {
     "name": "stdout",
     "output_type": "stream",
     "text": [
      "Weights with 500 data points:\n"
     ]
    },
    {
     "data": {
      "image/png": "[encoded data removed]",
      "text/plain": [
       "<Figure size 432x288 with 16 Axes>"
      ]
     },
     "metadata": {},
     "output_type": "display_data"
    },
    {
     "name": "stdout",
     "output_type": "stream",
     "text": [
      "Weights with 10000 data points:\n"
     ]
    },
    {
     "data": {
      "image/png": "[encoded data removed]",
      "text/plain": [
       "<Figure size 432x288 with 16 Axes>"
      ]
     },
     "metadata": {},
     "output_type": "display_data"
    }
   ],
   "source": [
    "print(\"Weights with 500 data points:\")\n",
    "\n",
    "fig, axes = plt.subplots(4, 4)\n",
    "vmin, vmax = best_clf.coefs_[0].min(), best_clf.coefs_[0].max()\n",
    "for coef, ax in zip(best_clf.coefs_[0].T, axes.ravel()):\n",
    "    ax.matshow(coef.reshape(28, 28), cmap=plt.cm.gray, vmin=.5 * vmin, vmax=.5 * vmax)\n",
    "    ax.set_xticks(())\n",
    "    ax.set_yticks(())\n",
    "\n",
    "plt.show()\n",
    "\n",
    "print(\"Weights with 10000 data points:\")\n",
    "\n",
    "fig, axes = plt.subplots(4, 4)\n",
    "vmin, vmax = best_clf_large.coefs_[0].min(), best_clf_large.coefs_[0].max()\n",
    "for coef, ax in zip(best_clf_large.coefs_[0].T, axes.ravel()):\n",
    "    ax.matshow(coef.reshape(28, 28), cmap=plt.cm.gray, vmin=.5 * vmin, vmax=.5 * vmax)\n",
    "    ax.set_xticks(())\n",
    "    ax.set_yticks(())\n",
    "plt.show()"
   ]
  },
  {
   "cell_type": "markdown",
   "metadata": {},
   "source": [
    "## QUESTION 4\n",
    "\n",
    "Describe what do you observe by looking at the weights\n",
    "\n",
    "Osservando le immagini della categoria superiore si vede che sono meno nitide e non si riesce a distinguere quasi nulla, per il set più largo invece le immagini appaiono comunque rumorose ma si riesce per lo meno a distinguere le figure."
   ]
  },
  {
   "cell_type": "markdown",
   "metadata": {},
   "source": [
    "### TO DO 7\n",
    "\n",
    "Report the best SVM model and its parameters, you found in the last notebook. Fit it on a few data points and compute its training and test scores."
   ]
  },
  {
   "cell_type": "code",
   "execution_count": 18,
   "metadata": {},
   "outputs": [
    {
     "name": "stdout",
     "output_type": "stream",
     "text": [
      "RESULTS FOR SVM\n",
      "Training score SVM:\n",
      "0.0\n",
      "Test score SVM:\n",
      "0.20799999999999996\n"
     ]
    }
   ],
   "source": [
    "m_training = 500\n",
    "\n",
    "X_train, X_test = X[:m_training], X[m_training:2*m_training]\n",
    "y_train, y_test = y[:m_training], y[m_training:2*m_training]\n",
    "\n",
    "# best parameters found in the SVM notebook\n",
    "# Create the SVM and perform the fit\n",
    "\n",
    "#ADD YOUR CODE\n",
    "SVM = SVC(C=100,gamma=0.01,kernel='rbf')\n",
    "SVM.fit(X_train,y_train)\n",
    "\n",
    "print ('RESULTS FOR SVM')\n",
    "\n",
    "SVM_training_error =  1. - SVM.score(X_train,y_train)\n",
    "\n",
    "print(\"Training score SVM:\")\n",
    "print(SVM_training_error)\n",
    "\n",
    "SVM_test_error = 1. - SVM.score(X_test,y_test)\n",
    "print(\"Test score SVM:\")\n",
    "print(SVM_test_error)"
   ]
  },
  {
   "cell_type": "markdown",
   "metadata": {
    "collapsed": true
   },
   "source": [
    "## QUESTION 5\n",
    "Compare the results of SVM and of NN. Which one would you preferer? Which are its tradeoffs?\n",
    "\n",
    "Si è modificata la dimensione del set a 500 in modo da poter fare un confronto alla pari tra NN e SVM, i due metodi portano a un errore sul test praticamente uguale, l' unica differenza che si viene a creare è che mentre il SVM è praticamente istantaneo nel computare l'errore, NN impiega più tempo. Si conclude dunque preferendo SVM."
   ]
  }
 ],
 "metadata": {
  "kernelspec": {
   "display_name": "Python 3",
   "language": "python",
   "name": "python3"
  },
  "language_info": {
   "codemirror_mode": {
    "name": "ipython",
    "version": 3
   },
   "file_extension": ".py",
   "mimetype": "text/x-python",
   "name": "python",
   "nbconvert_exporter": "python",
   "pygments_lexer": "ipython3",
   "version": "3.7.2"
  }
 },
 "nbformat": 4,
 "nbformat_minor": 2
}
